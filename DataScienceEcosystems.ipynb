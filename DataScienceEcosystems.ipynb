{
  "metadata": {
    "kernelspec": {
      "name": "python",
      "display_name": "Python (Pyodide)",
      "language": "python"
    },
    "language_info": {
      "codemirror_mode": {
        "name": "python",
        "version": 3
      },
      "file_extension": ".py",
      "mimetype": "text/x-python",
      "name": "python",
      "nbconvert_exporter": "python",
      "pygments_lexer": "ipython3",
      "version": "3.8"
    }
  },
  "nbformat_minor": 4,
  "nbformat": 4,
  "cells": [
    {
      "cell_type": "markdown",
      "source": "# Data Science Tools and Ecosystem",
      "metadata": {}
    },
    {
      "cell_type": "markdown",
      "source": "This notebook contains a comprehensive summary of Data Science Tools and Ecosystems.",
      "metadata": {}
    },
    {
      "cell_type": "markdown",
      "source": "Some of the popular languages that Data Scientists use are:\n1. **Python**: Known for its simplicity, flexibility and extensive libraries.\n2. **R**: R is widely used for data analysis, visualization and modeling.\n3. **SQL**: Data Scientists use SQL to extract, manipulate and analyze data stored in database.\n4. **Julia**: Julia is a high performance language, gaining popularity due to its speed, dynamism and ease of use.",
      "metadata": {}
    },
    {
      "cell_type": "markdown",
      "source": "Some of the commonly used libraries used by Data Scientists include:\n1. **NumPy**\n2. **Pandas**\n3. **Keras**",
      "metadata": {}
    },
    {
      "cell_type": "markdown",
      "source": "| Data Science Tools|\n|-------------------|\n|Pandas             |\n|TensorFlow         |\n|Matplotlib         |\n|MySQL              |\n|Apache Spark       |\n|R                  |\n|Python             |",
      "metadata": {}
    },
    {
      "cell_type": "markdown",
      "source": "### Below are a few examples of evaluating arithmetic expressions in Python",
      "metadata": {}
    },
    {
      "cell_type": "code",
      "source": "print (\"This is a simple arithmetic expression to multiply and then add integers.\")\nprint ((3*4)+5)",
      "metadata": {
        "trusted": true
      },
      "outputs": [
        {
          "name": "stdout",
          "text": "This is a simple arithmetic expression to multiply and then add integers.\n17\n",
          "output_type": "stream"
        }
      ],
      "execution_count": 1
    },
    {
      "cell_type": "code",
      "source": "print (\"This will convert 200 minutes to hours by diving by 60.\")\nprint (200/60)",
      "metadata": {
        "trusted": true
      },
      "outputs": [
        {
          "name": "stdout",
          "text": "This will convert 200 minutes to hours by diving by 60.\n3.3333333333333335\n",
          "output_type": "stream"
        }
      ],
      "execution_count": 2
    },
    {
      "cell_type": "markdown",
      "source": "Objectives:\n- To list commonly used languages by Data Scientists.\n- To provide list of frequently used libraries.\n- To elaborate different functions performed by jupyter notebook.",
      "metadata": {}
    },
    {
      "cell_type": "markdown",
      "source": "## Author\n**Hira Awan**",
      "metadata": {}
    }
  ]
}